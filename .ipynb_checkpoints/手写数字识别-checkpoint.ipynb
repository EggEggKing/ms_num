{
 "cells": [
  {
   "cell_type": "markdown",
   "metadata": {},
   "source": [
    "# 手写数字识别"
   ]
  },
  {
   "cell_type": "markdown",
   "metadata": {},
   "source": [
    "## 基于内置数据"
   ]
  },
  {
   "cell_type": "code",
   "execution_count": 1,
   "metadata": {
    "ExecuteTime": {
     "end_time": "2019-06-26T02:47:38.072562Z",
     "start_time": "2019-06-26T02:47:21.296602Z"
    }
   },
   "outputs": [],
   "source": [
    "#导入一些相关的第三方库\n",
    "import matplotlib.pyplot as plt\n",
    "from sklearn import datasets, svm, metrics"
   ]
  },
  {
   "cell_type": "code",
   "execution_count": null,
   "metadata": {},
   "outputs": [],
   "source": [
    "# 导入手写数据集\n",
    "digits = datasets. load_digits()\n",
    "images_and_labels = list(zip(digits. images, digits.target)) //J:l:lzip1:fr*1E􀂕Jt􀂖􀂗*'1t;ir,􀂘t.§.iftE-\n",
    "for index, (image, label) in enumerate(images_and_labels[:4]):\n",
    "    plt.subplot (2, 4, index + 1)plt.axis('off')\n",
    "plt. imshow(image, cmap=plt.cm.gray_r, interpolation='nearest')\n",
    "plt.title('Training: %i' % label)\n",
    "\n",
    "\n",
    "n_samples = len(digits. images)\n",
    "                      data = digits. images.reshape((n_samples, -1))"
   ]
  },
  {
   "cell_type": "code",
   "execution_count": null,
   "metadata": {},
   "outputs": [],
   "source": [
    "# 创建一个分类器：支持向量机分类器\n"
   ]
  },
  {
   "cell_type": "code",
   "execution_count": null,
   "metadata": {},
   "outputs": [],
   "source": [
    "# 采用数据的前半段数据用来训练分类器模型\n"
   ]
  },
  {
   "cell_type": "code",
   "execution_count": null,
   "metadata": {},
   "outputs": [],
   "source": [
    "# 预测另外一半数据\n"
   ]
  },
  {
   "cell_type": "markdown",
   "metadata": {},
   "source": [
    "## 基于kaggle数据"
   ]
  },
  {
   "cell_type": "code",
   "execution_count": null,
   "metadata": {},
   "outputs": [],
   "source": [
    "#读取数字图片数据，分别截取图片数据和数据标签\n",
    "\n",
    "\n",
    "# Train_data 中存储了训练集的784个特征，Test_data存储了测试集的784个特征，train_lable则存储了训练集的标签\n",
    "# 可以看出这道题是典型的监督学习问题"
   ]
  },
  {
   "cell_type": "code",
   "execution_count": null,
   "metadata": {},
   "outputs": [],
   "source": [
    "#查看前70幅图\n"
   ]
  },
  {
   "cell_type": "code",
   "execution_count": null,
   "metadata": {},
   "outputs": [],
   "source": [
    "#看看第一幅图像的数据\n"
   ]
  },
  {
   "cell_type": "markdown",
   "metadata": {},
   "source": [
    "### 数据清洗\n",
    "从图和数值上看出，值在0-255范围变化，即每个特征都是连续的值，想想这样连续的值对我们后期的特征选择是重要还是不重要的？ \n",
    "我们观察发现，在0与>0的边界，其值都不很高，（有种写字笔水在纸张上晕开了的感觉？）   \n",
    "所以这里可以有三种处理：   \n",
    "（1）不对图像进行任何处理   \n",
    "（2）对图像进行二值化，0即0，>0即1   \n",
    "（3）对图像进行二值化，设置一个阈值，大于这个阈值，才为1，否则为0  \n",
    "\n",
    "很显然，（2）（3）种方法会造成原始信息的丢失，但是这两种方法对我们后面的工作是起到正面作用还是负面作用呢？稍安勿躁，后面再来探讨。"
   ]
  },
  {
   "cell_type": "code",
   "execution_count": null,
   "metadata": {},
   "outputs": [],
   "source": []
  },
  {
   "cell_type": "code",
   "execution_count": null,
   "metadata": {},
   "outputs": [],
   "source": [
    "#不降维基本跑不出来\n"
   ]
  },
  {
   "cell_type": "markdown",
   "metadata": {},
   "source": [
    "下来就要考虑一个问题：如何从这784维中找出我们需要的维度呢？或者，如何对这784维进行投影，得到一个维度比较低的空间呢？  \n",
    "\n",
    "引入三种方法：  \n",
    "\n",
    "- Principal Component Analysis ( PCA ) - Unsupervised, linear method\n",
    "\n",
    "- Linear Discriminant Analysis (LDA) - Supervised, linear method\n",
    "\n",
    "- t-distributed Stochastic Neighbour Embedding (t-SNE) - Nonlinear, probabilistic method"
   ]
  },
  {
   "cell_type": "markdown",
   "metadata": {},
   "source": [
    "### 特征降维：主成分分析（PCA）"
   ]
  },
  {
   "cell_type": "code",
   "execution_count": null,
   "metadata": {},
   "outputs": [],
   "source": [
    "f"
   ]
  },
  {
   "cell_type": "markdown",
   "metadata": {},
   "source": [
    "### 模型选择\n",
    "分析题目可以知道，这是一个典型的多分类问题，所以可以用很多方法   \n",
    "比如knn 这个太慢了我就不尝试了   \n",
    "比如svm   \n",
    "比如LR   \n",
    "比如Random Forest   \n",
    "比如Decision Tree   \n",
    "比如GBDT  "
   ]
  },
  {
   "cell_type": "code",
   "execution_count": null,
   "metadata": {},
   "outputs": [],
   "source": [
    "#降维\n"
   ]
  },
  {
   "cell_type": "code",
   "execution_count": null,
   "metadata": {},
   "outputs": [],
   "source": [
    "#模型测试函数\n"
   ]
  },
  {
   "cell_type": "code",
   "execution_count": null,
   "metadata": {},
   "outputs": [],
   "source": []
  },
  {
   "cell_type": "markdown",
   "metadata": {},
   "source": [
    "### 最后选择22维的PCA+SVM"
   ]
  },
  {
   "cell_type": "code",
   "execution_count": null,
   "metadata": {},
   "outputs": [],
   "source": []
  },
  {
   "cell_type": "code",
   "execution_count": null,
   "metadata": {},
   "outputs": [],
   "source": []
  }
 ],
 "metadata": {
  "hide_input": false,
  "kernelspec": {
   "display_name": "Python 3",
   "language": "python",
   "name": "python3"
  },
  "language_info": {
   "codemirror_mode": {
    "name": "ipython",
    "version": 3
   },
   "file_extension": ".py",
   "mimetype": "text/x-python",
   "name": "python",
   "nbconvert_exporter": "python",
   "pygments_lexer": "ipython3",
   "version": "3.7.1"
  }
 },
 "nbformat": 4,
 "nbformat_minor": 2
}
